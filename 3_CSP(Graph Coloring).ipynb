{
 "cells": [
  {
   "cell_type": "markdown",
   "metadata": {},
   "source": [
    "### Method 1"
   ]
  },
  {
   "cell_type": "code",
   "execution_count": 10,
   "metadata": {},
   "outputs": [
    {
     "name": "stdout",
     "output_type": "stream",
     "text": [
      "Color assigned to vertex 0 is BLUE\n",
      "Color assigned to vertex 1 is GREEN\n",
      "Color assigned to vertex 2 is BLUE\n",
      "Color assigned to vertex 3 is RED\n",
      "Color assigned to vertex 4 is RED\n",
      "Color assigned to vertex 5 is GREEN\n"
     ]
    }
   ],
   "source": [
    "# class to represent a graph object\n",
    "class Graph:\n",
    "\n",
    "    # Constructor\n",
    "    def __init__(self, edges, N):\n",
    "        \n",
    "        self.adj = [[] for _ in range(N)]\n",
    "\n",
    "        # add edges to the undirected graph\n",
    "        for (src, dest) in edges:\n",
    "            self.adj[src].append(dest)\n",
    "            self.adj[dest].append(src)\n",
    "\n",
    "\n",
    "# Function to assign colors to vertices of graph\n",
    "def colorGraph(graph):\n",
    "\n",
    "    # stores color assigned to each vertex\n",
    "    result = {}\n",
    "\n",
    "    # assign color to vertex one by one\n",
    "    for u in range(N):\n",
    "        assigned = set([result.get(i) for i in graph.adj[u] if i in result])\n",
    "\n",
    "        # check for first free color\n",
    "        color = 1\n",
    "        for c in assigned:\n",
    "            if color != c:\n",
    "                break\n",
    "            color = color + 1\n",
    "\n",
    "        # assigns vertex u the first available color\n",
    "        result[u] = color\n",
    "\n",
    "    for v in range(N):\n",
    "        print(\"Color assigned to vertex\", v, \"is\", colors[result[v]])\n",
    "\n",
    "\n",
    "\n",
    "# Greedy coloring of graph\n",
    "\n",
    "\n",
    "    # Add more colors for graphs with many more vertices\n",
    "colors = [ \"\",\"BLUE\",\"GREEN\",\"RED\",\"YELLOW\",\"ORANGE\",\"PINK\",\"BLACK\",\"BROWN\",\"WHITE\",\n",
    "          \"PURPLE\",\"VIOLET\"]\n",
    "\n",
    "    #  of graph edges as per above diagram\n",
    "edges = [(0, 1), (0, 4), (0, 5), (4, 5), (1, 4), (1, 3), (2, 3), (2, 4)]\n",
    "\n",
    "N = 6\n",
    "    # create a graph from edges\n",
    "graph = Graph(edges, N)\n",
    "    # color graph using greedy algorithm\n",
    "colorGraph(graph)\n"
   ]
  },
  {
   "cell_type": "markdown",
   "metadata": {},
   "source": [
    "### Method 2"
   ]
  },
  {
   "cell_type": "code",
   "execution_count": 11,
   "metadata": {},
   "outputs": [
    {
     "name": "stdout",
     "output_type": "stream",
     "text": [
      "{'Andhra': 'Red', 'Karnataka': 'Blue', 'TamilNadu': 'Green', 'Kerala': 'Red'}\n"
     ]
    }
   ],
   "source": [
    "colors = ['Red', 'Blue', 'Green']\n",
    "\n",
    "states = ['Andhra', 'Karnataka', 'TamilNadu', 'Kerala']\n",
    "\n",
    "neighbors = {}\n",
    "neighbors['Andhra'] = ['Karnataka', 'TamilNadu']\n",
    "neighbors['Karnataka'] = ['Andhra', 'TamilNadu', 'Kerala']\n",
    "neighbors['TamilNadu'] = ['Andhra', 'Karnataka', 'Kerala']\n",
    "neighbors['Kerala'] = ['Karnataka', 'TamilNadu']\n",
    "neighbors['Delhi'] = ['TamilNadu', 'Kerala']\n",
    "\n",
    "\n",
    "colors_of_states = {}\n",
    "\n",
    "def promising(state, color):\n",
    "    for neighbor in neighbors.get(state): \n",
    "        color_of_neighbor = colors_of_states.get(neighbor)\n",
    "        if color_of_neighbor == color:\n",
    "            return False\n",
    "\n",
    "    return True\n",
    "\n",
    "def get_color_for_state(state):\n",
    "    for color in colors:\n",
    "        if promising(state, color):\n",
    "            return color\n",
    "def main():\n",
    "    for state in states:\n",
    "        colors_of_states[state] = get_color_for_state(state)\n",
    "\n",
    "    print(colors_of_states)\n",
    "\n",
    "\n",
    "main()"
   ]
  },
  {
   "cell_type": "code",
   "execution_count": null,
   "metadata": {},
   "outputs": [],
   "source": []
  }
 ],
 "metadata": {
  "kernelspec": {
   "display_name": "Python 3",
   "language": "python",
   "name": "python3"
  },
  "language_info": {
   "codemirror_mode": {
    "name": "ipython",
    "version": 3
   },
   "file_extension": ".py",
   "mimetype": "text/x-python",
   "name": "python",
   "nbconvert_exporter": "python",
   "pygments_lexer": "ipython3",
   "version": "3.7.4"
  }
 },
 "nbformat": 4,
 "nbformat_minor": 2
}
