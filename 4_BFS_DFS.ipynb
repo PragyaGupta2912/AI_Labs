{
  "nbformat": 4,
  "nbformat_minor": 0,
  "metadata": {
    "colab": {
      "name": "4_BFS/DFS.ipynb",
      "provenance": [],
      "authorship_tag": "ABX9TyPG6EAjLf06oOHbJ7uX2hHH",
      "include_colab_link": true
    },
    "kernelspec": {
      "name": "python3",
      "display_name": "Python 3"
    },
    "language_info": {
      "name": "python"
    }
  },
  "cells": [
    {
      "cell_type": "markdown",
      "metadata": {
        "id": "view-in-github",
        "colab_type": "text"
      },
      "source": [
        "<a href=\"https://colab.research.google.com/github/PragyaGupta2912/AI_Labs/blob/main/4_BFS_DFS.ipynb\" target=\"_parent\"><img src=\"https://colab.research.google.com/assets/colab-badge.svg\" alt=\"Open In Colab\"/></a>"
      ]
    },
    {
      "cell_type": "markdown",
      "metadata": {
        "id": "Nm1EcIVPLQkv"
      },
      "source": [
        "###BFS \n",
        "Finding shortest path in an unweighted graph (Dijkstra's algorithm"
      ]
    },
    {
      "cell_type": "code",
      "metadata": {
        "id": "s-kuy59mGBHv",
        "colab": {
          "base_uri": "https://localhost:8080/",
          "height": 300
        },
        "outputId": "acdf2ab1-23ac-45a2-b308-bb4d224740cf"
      },
      "source": [
        "import networkx as nx \n",
        "import matplotlib.pyplot as plt  \n",
        "class GraphVisualization: \n",
        "  def __init__(self): \n",
        "    self.visual = [] \n",
        " \n",
        "  def addEdge(self, a, b): \n",
        "    temp = [a, b] \n",
        "    self.visual.append(temp) \n",
        "          \n",
        "    \n",
        "  def visualize(self): \n",
        "    G = nx.Graph() \n",
        "    G.add_edges_from(self.visual) \n",
        "    nx.draw_networkx(G) \n",
        "    plt.show()  \n",
        "G = GraphVisualization() \n",
        "G.addEdge(0, 1) \n",
        "G.addEdge(0, 3) \n",
        "G.addEdge(1, 2) \n",
        "G.addEdge(3, 4) \n",
        "G.addEdge(3, 7) \n",
        "G.addEdge(4, 5)\n",
        "G.addEdge(4, 6) \n",
        "G.addEdge(4, 7) \n",
        "G.addEdge(5, 6)\n",
        "G.addEdge(6, 7)   \n",
        "G.visualize() \n",
        "\n",
        "def add_edge(adj, src, dest):\n",
        "  adj[src].append(dest);\n",
        "  adj[dest].append(src);\n",
        "def BFS(adj, src, dest, v, pred, dist):\n",
        "  queue = []\n",
        "  visited = [False for i in range(v)];\n",
        "  for i in range(v):\n",
        "    dist[i] = 1000000\n",
        "    pred[i] = -1;\n",
        "    \n",
        "  visited[src] = True;\n",
        "  dist[src] = 0;\n",
        "  queue.append(src);\n",
        "  \n",
        "  while (len(queue) != 0):\n",
        "    u = queue[0];\n",
        "    queue.pop(0);\n",
        "    for i in range(len(adj[u])):\n",
        "      if (visited[adj[u][i]] == False):\n",
        "        visited[adj[u][i]] = True;\n",
        "        dist[adj[u][i]] = dist[u] + 1;\n",
        "        pred[adj[u][i]] = u;\n",
        "        queue.append(adj[u][i]);\n",
        "  \n",
        "               \n",
        "        if (adj[u][i] == dest):\n",
        "          return True;\n",
        "  return False;\n",
        "def printShortestDistance(adj, s, dest, v):\n",
        "  pred=[0 for i in range(v)]\n",
        "  dist=[0 for i in range(v)];\n",
        "  \n",
        "  if (BFS(adj, s, dest, v, pred, dist) == False):\n",
        "    print(\"Given source and destination are not connected\")\n",
        "  \n",
        " \n",
        "  path = []\n",
        "  crawl = dest;\n",
        "  crawl = dest;\n",
        "  path.append(crawl);\n",
        "     \n",
        "  while (pred[crawl] != -1):\n",
        "    path.append(pred[crawl]);\n",
        "    crawl = pred[crawl];\n",
        "  print(\"Shortest path length is : \" + str(dist[dest]), end = '')\n",
        "  print(\"\\nPath is : : \")\n",
        "  for i in range(len(path)-1, -1, -1):\n",
        "    print(path[i], end=' ')\n",
        "         \n",
        " \n",
        "if __name__=='__main__':\n",
        "  v = 8;\n",
        "  \n",
        "  adj = [[] for i in range(v)];\n",
        "  \n",
        "   \n",
        "  add_edge(adj, 0, 1);\n",
        "  add_edge(adj, 0, 3);\n",
        "  add_edge(adj, 1, 2);\n",
        "  add_edge(adj, 3, 4);\n",
        "  add_edge(adj, 3, 7);\n",
        "  add_edge(adj, 4, 5);\n",
        "  add_edge(adj, 4, 6);\n",
        "  add_edge(adj, 4, 7);\n",
        "  add_edge(adj, 5, 6);\n",
        "  add_edge(adj, 6, 7);\n",
        "  source = 0\n",
        "  dest = 5;\n",
        "  printShortestDistance(adj, source, dest, v);\n",
        "\n"
      ],
      "execution_count": 6,
      "outputs": [
        {
          "output_type": "display_data",
          "data": {
            "image/png": "[encoded data removed]",
            "text/plain": [
              "<Figure size 432x288 with 1 Axes>"
            ]
          },
          "metadata": {
            "tags": []
          }
        },
        {
          "output_type": "stream",
          "text": [
            "Shortest path length is : 3\n",
            "Path is : : \n",
            "0 3 4 5 "
          ],
          "name": "stdout"
        }
      ]
    },
    {
      "cell_type": "markdown",
      "metadata": {
        "id": "Xt1YDDuJLgEr"
      },
      "source": [
        "### DFS\n",
        "1)       Island Problem: Group the 1’s in an adjacency matrix which indicates that the grouped elements constitute the land mass (1’s) and the ungrouped elements (0’s) constitute of water mass. "
      ]
    },
    {
      "cell_type": "code",
      "metadata": {
        "colab": {
          "base_uri": "https://localhost:8080/"
        },
        "id": "E0GN6YFXLp-M",
        "outputId": "35ff3930-b9fd-4295-a629-e482de0dddb4"
      },
      "source": [
        "class Solution(object):\n",
        "   def numIslands(self, grid):\n",
        "      if len(grid) == 0:\n",
        "         return 0\n",
        "      n= len(grid)\n",
        "      m = len(grid[0])\n",
        "      ans = 0\n",
        "      for i in range(n):\n",
        "         for j in range(m):\n",
        "            if grid[i][j] == \"1\":\n",
        "               ans+=1\n",
        "            self.make_water(i,j,n,m,grid)\n",
        "      return ans\n",
        "   def make_water(self,i,j,n,m,grid):\n",
        "      if i<0 or j<0 or i>=n or j>=m:\n",
        "         return\n",
        "      if grid[i][j] == \"0\":\n",
        "         return\n",
        "      else:\n",
        "         grid[i][j]=\"0\"\n",
        "      self.make_water(i+1,j,n,m,grid)\n",
        "      self.make_water(i,j+1,n,m,grid)\n",
        "      self.make_water(i-1,j,n,m,grid)\n",
        "      self.make_water(i,j-1,n,m,grid)\n",
        "ob1 = Solution()\n",
        "print(ob1.numIslands([[\"1\",\"0\",\"1\",\"0\",\"1\"],[\"1\",\"1\",\"1\",\"0\",\"1\"],[\"0\",\"1\",\"0\",\"0\",\"1\"],\n",
        "[\"1\",\"0\",\"0\",\"1\",\"0\"]]))"
      ],
      "execution_count": 4,
      "outputs": [
        {
          "output_type": "stream",
          "text": [
            "4\n"
          ],
          "name": "stdout"
        }
      ]
    },
    {
      "cell_type": "markdown",
      "metadata": {
        "id": "gfPuBra6MB7i"
      },
      "source": [
        "2) Topological sorting: If we want to perform a scheduling operation from such a set of tasks, we have to ensure that the dependency relation is not violated i.e, any task that comes later in a chain of tasks is always performed only after all the tasks before it has finished.\n"
      ]
    },
    {
      "cell_type": "code",
      "metadata": {
        "colab": {
          "base_uri": "https://localhost:8080/",
          "height": 458
        },
        "id": "-nZTOsYGMIU2",
        "outputId": "b0733fed-4bf9-46f4-8a31-e0768426bd7f"
      },
      "source": [
        "import networkx as nx\n",
        "dag = nx.digraph.DiGraph()\n",
        "dag.add_nodes_from(['A', 'B', 'C', 'D', 'E', 'F', 'G', 'H', 'I'])\n",
        "dag.add_edges_from([('A', 'B'), ('A', 'E'), ('B', 'D'), ('E', 'C'),\n",
        "                      ('D', 'G'),('C', 'G'),('C', 'I'), ('F', 'I')])\n",
        "\n",
        "import matplotlib.pyplot as plt\n",
        "nx.draw(dag, with_labels=True, font_weight='bold')\n",
        "plt.show()\n",
        "\n",
        "def dfs(dag, start, visited, stack):\n",
        "  if start in visited:\n",
        "    return stack, visited\n",
        "  if dag.out_degree(start) == 0:\n",
        "    stack.append(start)\n",
        "    visited.append(start)\n",
        "    return stack, visited\n",
        "  for node in dag.neighbors(start):\n",
        "    if node in visited:\n",
        "      continue\n",
        "    stack, visited = dfs(dag, node, visited, stack)\n",
        "  if start not in visited:\n",
        "    print(\"pushing %s\"%start)\n",
        "    stack.append(start)\n",
        "    visited.append(start)\n",
        "  return stack, visited\n",
        "\n",
        "def topological_sort_using_dfs(dag):\n",
        "  visited = []\n",
        "  stack=[]\n",
        "  start_nodes = [i for i in dag.nodes if dag.in_degree(i)==0]\n",
        "  for s in start_nodes:\n",
        "    stack, visited = dfs(dag, s, visited, stack)\n",
        "  print(\"Topological sorted:\")\n",
        "  while(len(stack)!=0):\n",
        "    print(stack.pop(), end=\" \")\n",
        "topological_sort_using_dfs(dag)"
      ],
      "execution_count": 5,
      "outputs": [
        {
          "output_type": "display_data",
          "data": {
            "image/png": "[encoded data removed]",
            "text/plain": [
              "<Figure size 432x288 with 1 Axes>"
            ]
          },
          "metadata": {
            "tags": []
          }
        },
        {
          "output_type": "stream",
          "text": [
            "pushing D\n",
            "pushing B\n",
            "pushing C\n",
            "pushing E\n",
            "pushing A\n",
            "pushing F\n",
            "Topological sorted:\n",
            "H F A E C I B D G "
          ],
          "name": "stdout"
        }
      ]
    }
  ]
}