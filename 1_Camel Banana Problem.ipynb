{
 "cells": [
  {
   "cell_type": "code",
   "execution_count": 1,
   "metadata": {},
   "outputs": [
    {
     "name": "stdout",
     "output_type": "stream",
     "text": [
      "No. of bananas at starting point: 3000\n",
      "Distance to be covered: 1000\n",
      "Max capacity of camel: 1000\n",
      "533\n"
     ]
    }
   ],
   "source": [
    "total=int(input('No. of bananas at starting point: '))\n",
    "distance=int(input('Distance to be covered: '))\n",
    "capacity=int(input('Max capacity of camel: '))\n",
    "lose=0\n",
    "start=total\n",
    "for i in range(distance):\n",
    "    while start>0:\n",
    "        start=start-capacity\n",
    "        if start==1:\n",
    "            lose=lose-1\n",
    "        lose=lose+2\n",
    "    lose=lose-1\n",
    "    start=total-lose\n",
    "    if start==0:\n",
    "        break\n",
    "print(start)\n"
   ]
  }
 ],
 "metadata": {
  "kernelspec": {
   "display_name": "Python 3",
   "language": "python",
   "name": "python3"
  },
  "language_info": {
   "codemirror_mode": {
    "name": "ipython",
    "version": 3
   },
   "file_extension": ".py",
   "mimetype": "text/x-python",
   "name": "python",
   "nbconvert_exporter": "python",
   "pygments_lexer": "ipython3",
   "version": "3.7.4"
  }
 },
 "nbformat": 4,
 "nbformat_minor": 2
}
